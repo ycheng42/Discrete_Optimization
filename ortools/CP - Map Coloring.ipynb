{
 "cells": [
  {
   "cell_type": "markdown",
   "metadata": {},
   "source": [
    "## Map coloring problem & solving by Google CP Solver.  \n",
    "You can find github [here](https://github.com/google/or-tools/blob/master/examples/python/map.py). "
   ]
  },
  {
   "cell_type": "code",
   "execution_count": 1,
   "metadata": {},
   "outputs": [],
   "source": [
    "from ortools.constraint_solver import pywrapcp"
   ]
  },
  {
   "cell_type": "code",
   "execution_count": 10,
   "metadata": {},
   "outputs": [
    {
     "name": "stdout",
     "output_type": "stream",
     "text": [
      "num_solutions:  36\n"
     ]
    }
   ],
   "source": [
    "def main(): \n",
    "    # Create the solver.\n",
    "    solver = pywrapcp.Solver(\"Map_Coloring\")\n",
    "    \n",
    "    # data    \n",
    "    Belgium = 0\n",
    "    Denmark = 1\n",
    "    France = 2\n",
    "    Germany = 3\n",
    "    Netherlands = 4\n",
    "    Luxembourg = 5\n",
    "    \n",
    "    n = 6 # num of countries\n",
    "    max_num_colors = 4\n",
    "    \n",
    "    # declare variables\n",
    "    color = [solver.IntVar(1, max_num_colors, \"x%i\" %i) for i in range(n)]\n",
    "    #print(color)\n",
    "    \n",
    "    # constraints\n",
    "    solver.Add(color[Belgium] == 1)\n",
    "    solver.Add(color[France] != color[Belgium])\n",
    "    solver.Add(color[France] != color[Luxembourg])\n",
    "    solver.Add(color[France] != color[Germany])\n",
    "    solver.Add(color[Luxembourg] != color[Germany])\n",
    "    solver.Add(color[Luxembourg] != color[Belgium])\n",
    "    solver.Add(color[Belgium] != color[Netherlands])\n",
    "    solver.Add(color[Belgium] != color[Germany])\n",
    "    solver.Add(color[Germany] != color[Netherlands])\n",
    "    solver.Add(color[Germany] != color[Denmark])\n",
    "    \n",
    "    # solution and search\n",
    "    solution = solver.Assignment()\n",
    "    solution.Add([color[i] for i in range(n)])\n",
    "    \n",
    "    collector = solver.AllSolutionCollector(solution)\n",
    "\n",
    "    \n",
    "    solver.Solve(\n",
    "      solver.Phase([color[i] for i in range(n)], solver.INT_VAR_SIMPLE,\n",
    "                   solver.ASSIGN_MIN_VALUE), [collector])\n",
    "\n",
    "    num_solutions = collector.SolutionCount()\n",
    "    print(\"num_solutions: \", num_solutions)\n",
    "\n",
    "if __name__ == \"__main__\":\n",
    "    main()"
   ]
  },
  {
   "cell_type": "code",
   "execution_count": null,
   "metadata": {},
   "outputs": [],
   "source": []
  }
 ],
 "metadata": {
  "kernelspec": {
   "display_name": "Python 3",
   "language": "python",
   "name": "python3"
  },
  "language_info": {
   "codemirror_mode": {
    "name": "ipython",
    "version": 3
   },
   "file_extension": ".py",
   "mimetype": "text/x-python",
   "name": "python",
   "nbconvert_exporter": "python",
   "pygments_lexer": "ipython3",
   "version": "3.7.0"
  }
 },
 "nbformat": 4,
 "nbformat_minor": 2
}
