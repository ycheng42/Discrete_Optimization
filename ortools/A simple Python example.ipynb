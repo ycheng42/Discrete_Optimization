{
 "cells": [
  {
   "cell_type": "markdown",
   "metadata": {},
   "source": [
    "## Objective 1\n",
    "Find the maximum value of x + y subject to the constraints 0 ≤ x ≤ 1 and 0 ≤ y ≤ 2."
   ]
  },
  {
   "cell_type": "markdown",
   "metadata": {},
   "source": [
    "## Main steps in solving the problem\n",
    "The basic steps for setting up and solving a problem are the same:\n",
    "\n",
    "   - Create the variables.\n",
    "   - Define the constraints.\n",
    "   - Define the objective function.\n",
    "   - Declare the solver—the method that implements an algorithm for finding the optimal solution.\n",
    "   - Invoke the solver and display the results."
   ]
  },
  {
   "cell_type": "code",
   "execution_count": 1,
   "metadata": {},
   "outputs": [],
   "source": [
    "from ortools.linear_solver import pywraplp"
   ]
  },
  {
   "cell_type": "code",
   "execution_count": 2,
   "metadata": {},
   "outputs": [
    {
     "name": "stdout",
     "output_type": "stream",
     "text": [
      "Solution:\n",
      "x = 1.0\n",
      "y = 2.0\n"
     ]
    }
   ],
   "source": [
    "def main():\n",
    "    solver = pywraplp.Solver('Solver', pywraplp.Solver.GLOP_LINEAR_PROGRAMMING)\n",
    "    \n",
    "        # Create the variables\n",
    "    x = solver.NumVar(0, 1, 'x')\n",
    "    y = solver.NumVar(0, 2, 'y')\n",
    "    \n",
    "    objective = solver.Objective()\n",
    "    objective.SetCoefficient(x, 1)\n",
    "    objective.SetCoefficient(y, 1)\n",
    "    objective.SetMaximization()\n",
    "    \n",
    "    solver.Solve()\n",
    "    \n",
    "    print('Solution:')\n",
    "    print('x =', x.solution_value())\n",
    "    print('y =', y.solution_value())\n",
    "\n",
    "if __name__ == '__main__':\n",
    "    main()"
   ]
  },
  {
   "cell_type": "markdown",
   "metadata": {},
   "source": [
    "## Objective 2\n",
    "Maximize 3x + 4y subject to the following constraints:  \n",
    "x + 2y ≤ 14    \n",
    "3x – y ≥ 0   \n",
    "x – y  ≤ 2  "
   ]
  },
  {
   "cell_type": "code",
   "execution_count": 5,
   "metadata": {},
   "outputs": [
    {
     "name": "stdout",
     "output_type": "stream",
     "text": [
      "Number of variables = 2\n",
      "Number of constraints = 3\n",
      "Solution:\n",
      "x =  5.999999999999998\n",
      "y =  3.9999999999999996\n",
      "Optimal objective value = 33.99999999999999\n"
     ]
    }
   ],
   "source": [
    "def main():\n",
    "    solver = pywraplp.Solver('Solver', pywraplp.Solver.GLOP_LINEAR_PROGRAMMING)\n",
    "    \n",
    "    # Create the variables\n",
    "    x = solver.NumVar(-solver.infinity(), solver.infinity(), 'x')\n",
    "    y = solver.NumVar(-solver.infinity(), solver.infinity(), 'y')\n",
    "    \n",
    "    # Define the constraints\n",
    "    # Constraint 1: x + 2y <= 14.\n",
    "    constraint1 = solver.Constraint(-solver.infinity(), 14)\n",
    "    constraint1.SetCoefficient(x, 1)\n",
    "    constraint1.SetCoefficient(y, 2)\n",
    "\n",
    "    # Constraint 2: 3x - y >= 0.\n",
    "    constraint2 = solver.Constraint(0, solver.infinity())\n",
    "    constraint2.SetCoefficient(x, 3)\n",
    "    constraint2.SetCoefficient(y, -1)\n",
    "\n",
    "    # Constraint 3: x - y <= 2.\n",
    "    constraint3 = solver.Constraint(-solver.infinity(), 2)\n",
    "    constraint3.SetCoefficient(x, 1)\n",
    "    constraint3.SetCoefficient(y, -1)\n",
    "    \n",
    "    # Define the objective function : Maximize 3x + 4y\n",
    "    objective = solver.Objective()\n",
    "    objective.SetCoefficient(x, 3)\n",
    "    objective.SetCoefficient(y, 4)\n",
    "    objective.SetMaximization()\n",
    "    \n",
    "    # Solve the system.\n",
    "    solver.Solve()\n",
    "    print('Number of variables =', solver.NumVariables())\n",
    "    print('Number of constraints =', solver.NumConstraints())\n",
    "  \n",
    "    # The value of each variable in the solution.\n",
    "    print('Solution:')\n",
    "    print('x = ', x.solution_value())\n",
    "    print('y = ', y.solution_value())\n",
    "  \n",
    "    # The objective value of the solution.\n",
    "    opt_solution = 3 * x.solution_value() + 4 * y.solution_value()\n",
    "    print('Optimal objective value =', opt_solution)\n",
    "    \n",
    "if __name__ == '__main__':\n",
    "    main()"
   ]
  },
  {
   "cell_type": "code",
   "execution_count": null,
   "metadata": {},
   "outputs": [],
   "source": []
  }
 ],
 "metadata": {
  "kernelspec": {
   "display_name": "Python 3",
   "language": "python",
   "name": "python3"
  },
  "language_info": {
   "codemirror_mode": {
    "name": "ipython",
    "version": 3
   },
   "file_extension": ".py",
   "mimetype": "text/x-python",
   "name": "python",
   "nbconvert_exporter": "python",
   "pygments_lexer": "ipython3",
   "version": "3.7.0"
  }
 },
 "nbformat": 4,
 "nbformat_minor": 2
}
