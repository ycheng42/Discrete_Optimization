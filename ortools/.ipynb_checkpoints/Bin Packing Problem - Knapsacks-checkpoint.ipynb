{
 "cells": [
  {
   "cell_type": "markdown",
   "metadata": {},
   "source": [
    "## Knapsacks problem\n",
    "\n",
    "The goal is to find the set of items that will maximize the total value without exceeding the capacity.\n",
    "\n",
    "The solving process :\n",
    "  - Create an instance of **KnapsackSolver**.\n",
    "  - Declar the values, weights, and capacities.\n",
    "  - Initialize the solver with the data.\n",
    "  - Call the **Solve()** method.\n",
    "  - Display the result."
   ]
  },
  {
   "cell_type": "code",
   "execution_count": 3,
   "metadata": {},
   "outputs": [],
   "source": [
    "weights = [[565, 406, 194, 130, 435, 367, 230, 315, 393,\n",
    "              125, 670, 892, 600, 293, 712, 147, 421, 255]]\n",
    "capacities = [850]\n",
    "values = weights[0] ## In this case, the value of each object equals its weight"
   ]
  },
  {
   "cell_type": "code",
   "execution_count": 4,
   "metadata": {},
   "outputs": [],
   "source": [
    "from ortools.algorithms import pywrapknapsack_solver"
   ]
  },
  {
   "cell_type": "code",
   "execution_count": 6,
   "metadata": {},
   "outputs": [],
   "source": [
    "# Create the solver.\n",
    "solver = pywrapknapsack_solver.KnapsackSolver(\n",
    "    pywrapknapsack_solver.KnapsackSolver.KNAPSACK_DYNAMIC_PROGRAMMING_SOLVER,'test')"
   ]
  },
  {
   "cell_type": "code",
   "execution_count": 7,
   "metadata": {},
   "outputs": [
    {
     "name": "stdout",
     "output_type": "stream",
     "text": [
      "Packed items:  [2, 3, 6, 13]\n",
      "Packed weights:  [194, 130, 230, 293]\n",
      "Total weight (same as total value):  847\n"
     ]
    }
   ],
   "source": [
    "solver.Init(values, weights, capacities)\n",
    "computed_value = solver.Solve()\n",
    "\n",
    "packed_items = [x for x in range(0, len(weights[0]))\n",
    "                if solver.BestSolutionContains(x)]\n",
    "packed_weights = [weights[0][i] for i in packed_items]\n",
    "\n",
    "print(\"Packed items: \", packed_items)\n",
    "print(\"Packed weights: \", packed_weights)\n",
    "print(\"Total weight (same as total value): \", computed_value)"
   ]
  },
  {
   "cell_type": "code",
   "execution_count": null,
   "metadata": {},
   "outputs": [],
   "source": []
  }
 ],
 "metadata": {
  "kernelspec": {
   "display_name": "Python 3",
   "language": "python",
   "name": "python3"
  },
  "language_info": {
   "codemirror_mode": {
    "name": "ipython",
    "version": 3
   },
   "file_extension": ".py",
   "mimetype": "text/x-python",
   "name": "python",
   "nbconvert_exporter": "python",
   "pygments_lexer": "ipython3",
   "version": "3.7.0"
  }
 },
 "nbformat": 4,
 "nbformat_minor": 2
}
